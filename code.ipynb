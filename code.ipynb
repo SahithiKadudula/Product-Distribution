{
 "cells": [
  {
   "cell_type": "code",
   "execution_count": 1,
   "id": "b14daf4b-99bd-4fde-abe4-b1500e254dee",
   "metadata": {},
   "outputs": [
    {
     "data": {
      "text/html": [
       "<div>\n",
       "<style scoped>\n",
       "    .dataframe tbody tr th:only-of-type {\n",
       "        vertical-align: middle;\n",
       "    }\n",
       "\n",
       "    .dataframe tbody tr th {\n",
       "        vertical-align: top;\n",
       "    }\n",
       "\n",
       "    .dataframe thead th {\n",
       "        text-align: right;\n",
       "    }\n",
       "</style>\n",
       "<table border=\"1\" class=\"dataframe\">\n",
       "  <thead>\n",
       "    <tr style=\"text-align: right;\">\n",
       "      <th></th>\n",
       "      <th>Product_Code</th>\n",
       "      <th>Warehouse</th>\n",
       "      <th>Product_Category</th>\n",
       "      <th>Date</th>\n",
       "      <th>Order_Demand</th>\n",
       "    </tr>\n",
       "  </thead>\n",
       "  <tbody>\n",
       "    <tr>\n",
       "      <th>0</th>\n",
       "      <td>Product_0993</td>\n",
       "      <td>Whse_J</td>\n",
       "      <td>Category_028</td>\n",
       "      <td>2012/7/27</td>\n",
       "      <td>100</td>\n",
       "    </tr>\n",
       "    <tr>\n",
       "      <th>1</th>\n",
       "      <td>Product_0979</td>\n",
       "      <td>Whse_J</td>\n",
       "      <td>Category_028</td>\n",
       "      <td>2012/1/19</td>\n",
       "      <td>500</td>\n",
       "    </tr>\n",
       "    <tr>\n",
       "      <th>2</th>\n",
       "      <td>Product_0979</td>\n",
       "      <td>Whse_J</td>\n",
       "      <td>Category_028</td>\n",
       "      <td>2012/2/3</td>\n",
       "      <td>500</td>\n",
       "    </tr>\n",
       "    <tr>\n",
       "      <th>3</th>\n",
       "      <td>Product_0979</td>\n",
       "      <td>Whse_J</td>\n",
       "      <td>Category_028</td>\n",
       "      <td>2012/2/9</td>\n",
       "      <td>500</td>\n",
       "    </tr>\n",
       "    <tr>\n",
       "      <th>4</th>\n",
       "      <td>Product_0979</td>\n",
       "      <td>Whse_J</td>\n",
       "      <td>Category_028</td>\n",
       "      <td>2012/3/2</td>\n",
       "      <td>500</td>\n",
       "    </tr>\n",
       "  </tbody>\n",
       "</table>\n",
       "</div>"
      ],
      "text/plain": [
       "   Product_Code Warehouse Product_Category       Date Order_Demand\n",
       "0  Product_0993    Whse_J     Category_028  2012/7/27         100 \n",
       "1  Product_0979    Whse_J     Category_028  2012/1/19         500 \n",
       "2  Product_0979    Whse_J     Category_028   2012/2/3         500 \n",
       "3  Product_0979    Whse_J     Category_028   2012/2/9         500 \n",
       "4  Product_0979    Whse_J     Category_028   2012/3/2         500 "
      ]
     },
     "metadata": {},
     "output_type": "display_data"
    },
    {
     "name": "stdout",
     "output_type": "stream",
     "text": [
      "(1048575, 5)\n"
     ]
    }
   ],
   "source": [
    "#File in laptop to python\n",
    "import pandas as pd\n",
    "import os\n",
    "\n",
    "os.chdir(r\"C:\\Users\\sucha\\OneDrive\\Desktop\\TXST\\Semester 1\\QMST5336-Analytics\\Group Projects\\MainFile\")\n",
    "df_full = pd.read_csv(\"HistoricalProductDemand.csv\")\n",
    "\n",
    "display(df_full.head())\n",
    "print(df_full.shape)"
   ]
  },
  {
   "cell_type": "code",
   "execution_count": 2,
   "id": "5a9c62ee-2db7-466a-96d2-25ed53c58e3b",
   "metadata": {},
   "outputs": [
    {
     "data": {
      "text/plain": [
       "Product_Code            0\n",
       "Warehouse               0\n",
       "Product_Category        0\n",
       "Date                11239\n",
       "Order_Demand            0\n",
       "dtype: int64"
      ]
     },
     "execution_count": 2,
     "metadata": {},
     "output_type": "execute_result"
    }
   ],
   "source": [
    "#check if there are any null values\n",
    "df_full.isnull().sum()"
   ]
  },
  {
   "cell_type": "code",
   "execution_count": 3,
   "id": "43b0435a-d4ee-4450-a4bb-961b1799d858",
   "metadata": {},
   "outputs": [
    {
     "data": {
      "text/plain": [
       "Product_Code        0\n",
       "Warehouse           0\n",
       "Product_Category    0\n",
       "Date                0\n",
       "Order_Demand        0\n",
       "dtype: int64"
      ]
     },
     "execution_count": 3,
     "metadata": {},
     "output_type": "execute_result"
    }
   ],
   "source": [
    "#Drop missing values \n",
    "df_full.dropna(inplace=True)\n",
    "#check again to see if there are any null values\n",
    "df_full.isnull().sum()"
   ]
  },
  {
   "cell_type": "code",
   "execution_count": 4,
   "id": "5ec74951-e322-404a-a5d0-1a70c83c089d",
   "metadata": {},
   "outputs": [
    {
     "name": "stdout",
     "output_type": "stream",
     "text": [
      "(1037336, 5)\n"
     ]
    }
   ],
   "source": [
    "print(df_full.shape)\n",
    "#A total of 11,239 records will be deleted"
   ]
  },
  {
   "cell_type": "code",
   "execution_count": 6,
   "id": "813a3c42-c105-4a5a-afac-70f3a3bb945d",
   "metadata": {},
   "outputs": [
    {
     "name": "stdout",
     "output_type": "stream",
     "text": [
      "<class 'pandas.core.frame.DataFrame'>\n",
      "Int64Index: 1037336 entries, 0 to 1048574\n",
      "Data columns (total 5 columns):\n",
      " #   Column            Non-Null Count    Dtype \n",
      "---  ------            --------------    ----- \n",
      " 0   Product_Code      1037336 non-null  object\n",
      " 1   Warehouse         1037336 non-null  object\n",
      " 2   Product_Category  1037336 non-null  object\n",
      " 3   Date              1037336 non-null  object\n",
      " 4   Order_Demand      1037336 non-null  object\n",
      "dtypes: object(5)\n",
      "memory usage: 47.5+ MB\n"
     ]
    }
   ],
   "source": [
    "df_full.info()"
   ]
  },
  {
   "cell_type": "code",
   "execution_count": 9,
   "id": "fa4825eb-60a7-4491-a38f-100506f27734",
   "metadata": {},
   "outputs": [
    {
     "data": {
      "text/html": [
       "<div>\n",
       "<style scoped>\n",
       "    .dataframe tbody tr th:only-of-type {\n",
       "        vertical-align: middle;\n",
       "    }\n",
       "\n",
       "    .dataframe tbody tr th {\n",
       "        vertical-align: top;\n",
       "    }\n",
       "\n",
       "    .dataframe thead th {\n",
       "        text-align: right;\n",
       "    }\n",
       "</style>\n",
       "<table border=\"1\" class=\"dataframe\">\n",
       "  <thead>\n",
       "    <tr style=\"text-align: right;\">\n",
       "      <th></th>\n",
       "      <th>Product_Code</th>\n",
       "      <th>Warehouse</th>\n",
       "      <th>Product_Category</th>\n",
       "      <th>Date</th>\n",
       "      <th>Order_Demand</th>\n",
       "    </tr>\n",
       "  </thead>\n",
       "  <tbody>\n",
       "    <tr>\n",
       "      <th>count</th>\n",
       "      <td>1037336</td>\n",
       "      <td>1037336</td>\n",
       "      <td>1037336</td>\n",
       "      <td>1037336</td>\n",
       "      <td>1037336</td>\n",
       "    </tr>\n",
       "    <tr>\n",
       "      <th>unique</th>\n",
       "      <td>2160</td>\n",
       "      <td>4</td>\n",
       "      <td>33</td>\n",
       "      <td>1729</td>\n",
       "      <td>3749</td>\n",
       "    </tr>\n",
       "    <tr>\n",
       "      <th>top</th>\n",
       "      <td>Product_1359</td>\n",
       "      <td>Whse_J</td>\n",
       "      <td>Category_019</td>\n",
       "      <td>2013/9/27</td>\n",
       "      <td>1000</td>\n",
       "    </tr>\n",
       "    <tr>\n",
       "      <th>freq</th>\n",
       "      <td>16936</td>\n",
       "      <td>764447</td>\n",
       "      <td>470266</td>\n",
       "      <td>2075</td>\n",
       "      <td>112263</td>\n",
       "    </tr>\n",
       "  </tbody>\n",
       "</table>\n",
       "</div>"
      ],
      "text/plain": [
       "        Product_Code Warehouse Product_Category       Date Order_Demand\n",
       "count        1037336   1037336          1037336    1037336      1037336\n",
       "unique          2160         4               33       1729         3749\n",
       "top     Product_1359    Whse_J     Category_019  2013/9/27        1000 \n",
       "freq           16936    764447           470266       2075       112263"
      ]
     },
     "execution_count": 9,
     "metadata": {},
     "output_type": "execute_result"
    }
   ],
   "source": [
    "df_full.describe()"
   ]
  },
  {
   "cell_type": "code",
   "execution_count": 10,
   "id": "5563d82c-cc77-491d-8f0c-2d704e1f03e6",
   "metadata": {},
   "outputs": [
    {
     "data": {
      "text/html": [
       "<div>\n",
       "<style scoped>\n",
       "    .dataframe tbody tr th:only-of-type {\n",
       "        vertical-align: middle;\n",
       "    }\n",
       "\n",
       "    .dataframe tbody tr th {\n",
       "        vertical-align: top;\n",
       "    }\n",
       "\n",
       "    .dataframe thead th {\n",
       "        text-align: right;\n",
       "    }\n",
       "</style>\n",
       "<table border=\"1\" class=\"dataframe\">\n",
       "  <thead>\n",
       "    <tr style=\"text-align: right;\">\n",
       "      <th></th>\n",
       "      <th>Product_Code</th>\n",
       "      <th>Warehouse</th>\n",
       "      <th>Product_Category</th>\n",
       "      <th>Date</th>\n",
       "      <th>Order_Demand</th>\n",
       "    </tr>\n",
       "  </thead>\n",
       "  <tbody>\n",
       "    <tr>\n",
       "      <th>0</th>\n",
       "      <td>Product_0965</td>\n",
       "      <td>Whse_A</td>\n",
       "      <td>Category_006</td>\n",
       "      <td>2011/1/8</td>\n",
       "      <td>2</td>\n",
       "    </tr>\n",
       "    <tr>\n",
       "      <th>1</th>\n",
       "      <td>Product_0412</td>\n",
       "      <td>Whse_S</td>\n",
       "      <td>Category_007</td>\n",
       "      <td>2011/10/20</td>\n",
       "      <td>(2)</td>\n",
       "    </tr>\n",
       "    <tr>\n",
       "      <th>2</th>\n",
       "      <td>Product_0125</td>\n",
       "      <td>Whse_S</td>\n",
       "      <td>Category_011</td>\n",
       "      <td>2011/10/20</td>\n",
       "      <td>(2)</td>\n",
       "    </tr>\n",
       "    <tr>\n",
       "      <th>3</th>\n",
       "      <td>Product_0642</td>\n",
       "      <td>Whse_C</td>\n",
       "      <td>Category_019</td>\n",
       "      <td>2011/10/31</td>\n",
       "      <td>3</td>\n",
       "    </tr>\n",
       "    <tr>\n",
       "      <th>4</th>\n",
       "      <td>Product_2137</td>\n",
       "      <td>Whse_S</td>\n",
       "      <td>Category_009</td>\n",
       "      <td>2011/11/18</td>\n",
       "      <td>(25)</td>\n",
       "    </tr>\n",
       "  </tbody>\n",
       "</table>\n",
       "</div>"
      ],
      "text/plain": [
       "   Product_Code Warehouse Product_Category        Date Order_Demand\n",
       "0  Product_0965    Whse_A     Category_006    2011/1/8           2 \n",
       "1  Product_0412    Whse_S     Category_007  2011/10/20          (2)\n",
       "2  Product_0125    Whse_S     Category_011  2011/10/20          (2)\n",
       "3  Product_0642    Whse_C     Category_019  2011/10/31           3 \n",
       "4  Product_2137    Whse_S     Category_009  2011/11/18         (25)"
      ]
     },
     "execution_count": 10,
     "metadata": {},
     "output_type": "execute_result"
    }
   ],
   "source": [
    "# sort the data according yo date column\n",
    "df_full.sort_values('Date', ignore_index=True, inplace=True)\n",
    "df_full.head()"
   ]
  },
  {
   "cell_type": "code",
   "execution_count": 11,
   "id": "82ca6010-f029-476e-81e9-e92aeeb6c36f",
   "metadata": {},
   "outputs": [
    {
     "name": "stderr",
     "output_type": "stream",
     "text": [
      "C:\\Users\\sucha\\AppData\\Local\\Temp\\ipykernel_32504\\1857939289.py:2: FutureWarning: The default value of regex will change from True to False in a future version. In addition, single character regular expressions will *not* be treated as literal strings when regex=True.\n",
      "  df_full['Order_Demand'] = df_full['Order_Demand'].str.replace('(',\"\")\n",
      "C:\\Users\\sucha\\AppData\\Local\\Temp\\ipykernel_32504\\1857939289.py:3: FutureWarning: The default value of regex will change from True to False in a future version. In addition, single character regular expressions will *not* be treated as literal strings when regex=True.\n",
      "  df_full['Order_Demand'] = df_full['Order_Demand'].str.replace(')',\"\")\n"
     ]
    },
    {
     "data": {
      "text/html": [
       "<div>\n",
       "<style scoped>\n",
       "    .dataframe tbody tr th:only-of-type {\n",
       "        vertical-align: middle;\n",
       "    }\n",
       "\n",
       "    .dataframe tbody tr th {\n",
       "        vertical-align: top;\n",
       "    }\n",
       "\n",
       "    .dataframe thead th {\n",
       "        text-align: right;\n",
       "    }\n",
       "</style>\n",
       "<table border=\"1\" class=\"dataframe\">\n",
       "  <thead>\n",
       "    <tr style=\"text-align: right;\">\n",
       "      <th></th>\n",
       "      <th>Product_Code</th>\n",
       "      <th>Warehouse</th>\n",
       "      <th>Product_Category</th>\n",
       "      <th>Date</th>\n",
       "      <th>Order_Demand</th>\n",
       "    </tr>\n",
       "  </thead>\n",
       "  <tbody>\n",
       "    <tr>\n",
       "      <th>0</th>\n",
       "      <td>Product_0965</td>\n",
       "      <td>Whse_A</td>\n",
       "      <td>Category_006</td>\n",
       "      <td>2011/1/8</td>\n",
       "      <td>2</td>\n",
       "    </tr>\n",
       "    <tr>\n",
       "      <th>1</th>\n",
       "      <td>Product_0412</td>\n",
       "      <td>Whse_S</td>\n",
       "      <td>Category_007</td>\n",
       "      <td>2011/10/20</td>\n",
       "      <td>2</td>\n",
       "    </tr>\n",
       "    <tr>\n",
       "      <th>2</th>\n",
       "      <td>Product_0125</td>\n",
       "      <td>Whse_S</td>\n",
       "      <td>Category_011</td>\n",
       "      <td>2011/10/20</td>\n",
       "      <td>2</td>\n",
       "    </tr>\n",
       "    <tr>\n",
       "      <th>3</th>\n",
       "      <td>Product_0642</td>\n",
       "      <td>Whse_C</td>\n",
       "      <td>Category_019</td>\n",
       "      <td>2011/10/31</td>\n",
       "      <td>3</td>\n",
       "    </tr>\n",
       "    <tr>\n",
       "      <th>4</th>\n",
       "      <td>Product_2137</td>\n",
       "      <td>Whse_S</td>\n",
       "      <td>Category_009</td>\n",
       "      <td>2011/11/18</td>\n",
       "      <td>25</td>\n",
       "    </tr>\n",
       "  </tbody>\n",
       "</table>\n",
       "</div>"
      ],
      "text/plain": [
       "   Product_Code Warehouse Product_Category        Date  Order_Demand\n",
       "0  Product_0965    Whse_A     Category_006    2011/1/8             2\n",
       "1  Product_0412    Whse_S     Category_007  2011/10/20             2\n",
       "2  Product_0125    Whse_S     Category_011  2011/10/20             2\n",
       "3  Product_0642    Whse_C     Category_019  2011/10/31             3\n",
       "4  Product_2137    Whse_S     Category_009  2011/11/18            25"
      ]
     },
     "execution_count": 11,
     "metadata": {},
     "output_type": "execute_result"
    }
   ],
   "source": [
    "# there are parenthesis in the OrderDemand column, also it is of string datatype\n",
    "df_full['Order_Demand'] = df_full['Order_Demand'].str.replace('(',\"\")\n",
    "df_full['Order_Demand'] = df_full['Order_Demand'].str.replace(')',\"\")\n",
    "\n",
    "# change the dtype as int64\n",
    "df_full['Order_Demand'] = df_full['Order_Demand'].astype('int64')\n",
    "df_full.head()"
   ]
  },
  {
   "cell_type": "code",
   "execution_count": 22,
   "id": "64936a99-5fc1-46c9-a607-fd609d6d74f8",
   "metadata": {},
   "outputs": [
    {
     "data": {
      "text/plain": [
       "0   2011-01-08\n",
       "1   2011-10-20\n",
       "2   2011-10-20\n",
       "3   2011-10-31\n",
       "4   2011-11-18\n",
       "Name: Date, dtype: datetime64[ns]"
      ]
     },
     "execution_count": 22,
     "metadata": {},
     "output_type": "execute_result"
    }
   ],
   "source": [
    "#Casting all the data in 'Date' field into Datetime Format\n",
    "import pandas as pd\n",
    "\n",
    "df_full['Date'] = pd.to_datetime(df_full['Date'])\n",
    "df_full['Date'].head()"
   ]
  },
  {
   "cell_type": "code",
   "execution_count": 23,
   "id": "b8c703dd-6b8a-4a86-9e09-ea07a39c60ac",
   "metadata": {},
   "outputs": [
    {
     "name": "stdout",
     "output_type": "stream",
     "text": [
      "<class 'pandas.core.frame.DataFrame'>\n",
      "RangeIndex: 1037336 entries, 0 to 1037335\n",
      "Data columns (total 5 columns):\n",
      " #   Column            Non-Null Count    Dtype         \n",
      "---  ------            --------------    -----         \n",
      " 0   Product_Code      1037336 non-null  object        \n",
      " 1   Warehouse         1037336 non-null  object        \n",
      " 2   Product_Category  1037336 non-null  object        \n",
      " 3   Date              1037336 non-null  datetime64[ns]\n",
      " 4   Order_Demand      1037336 non-null  int64         \n",
      "dtypes: datetime64[ns](1), int64(1), object(3)\n",
      "memory usage: 39.6+ MB\n"
     ]
    }
   ],
   "source": [
    "df_full.info()"
   ]
  },
  {
   "cell_type": "code",
   "execution_count": 24,
   "id": "9d16eb63-fc25-4099-ad5d-7440c4968215",
   "metadata": {},
   "outputs": [
    {
     "data": {
      "text/html": [
       "<div>\n",
       "<style scoped>\n",
       "    .dataframe tbody tr th:only-of-type {\n",
       "        vertical-align: middle;\n",
       "    }\n",
       "\n",
       "    .dataframe tbody tr th {\n",
       "        vertical-align: top;\n",
       "    }\n",
       "\n",
       "    .dataframe thead th {\n",
       "        text-align: right;\n",
       "    }\n",
       "</style>\n",
       "<table border=\"1\" class=\"dataframe\">\n",
       "  <thead>\n",
       "    <tr style=\"text-align: right;\">\n",
       "      <th></th>\n",
       "      <th>Product_Code</th>\n",
       "      <th>Warehouse</th>\n",
       "      <th>Product_Category</th>\n",
       "    </tr>\n",
       "  </thead>\n",
       "  <tbody>\n",
       "    <tr>\n",
       "      <th>count</th>\n",
       "      <td>1037336</td>\n",
       "      <td>1037336</td>\n",
       "      <td>1037336</td>\n",
       "    </tr>\n",
       "    <tr>\n",
       "      <th>unique</th>\n",
       "      <td>2160</td>\n",
       "      <td>4</td>\n",
       "      <td>33</td>\n",
       "    </tr>\n",
       "    <tr>\n",
       "      <th>top</th>\n",
       "      <td>Product_1359</td>\n",
       "      <td>Whse_J</td>\n",
       "      <td>Category_019</td>\n",
       "    </tr>\n",
       "    <tr>\n",
       "      <th>freq</th>\n",
       "      <td>16936</td>\n",
       "      <td>764447</td>\n",
       "      <td>470266</td>\n",
       "    </tr>\n",
       "  </tbody>\n",
       "</table>\n",
       "</div>"
      ],
      "text/plain": [
       "        Product_Code Warehouse Product_Category\n",
       "count        1037336   1037336          1037336\n",
       "unique          2160         4               33\n",
       "top     Product_1359    Whse_J     Category_019\n",
       "freq           16936    764447           470266"
      ]
     },
     "execution_count": 24,
     "metadata": {},
     "output_type": "execute_result"
    }
   ],
   "source": [
    "# categorical variables info\n",
    "df_full[[\"Product_Code\", \"Warehouse\", \"Product_Category\"]].describe()"
   ]
  },
  {
   "cell_type": "code",
   "execution_count": 25,
   "id": "77a5b231-716f-481d-a24e-711d5a97dbe0",
   "metadata": {},
   "outputs": [],
   "source": [
    "df_p1359 = df_full.query('Product_Code == \"Product_1359\"' )"
   ]
  },
  {
   "cell_type": "code",
   "execution_count": 26,
   "id": "f57a4c5d-f388-48df-8f2b-12f117567d7f",
   "metadata": {},
   "outputs": [
    {
     "data": {
      "text/html": [
       "<div>\n",
       "<style scoped>\n",
       "    .dataframe tbody tr th:only-of-type {\n",
       "        vertical-align: middle;\n",
       "    }\n",
       "\n",
       "    .dataframe tbody tr th {\n",
       "        vertical-align: top;\n",
       "    }\n",
       "\n",
       "    .dataframe thead th {\n",
       "        text-align: right;\n",
       "    }\n",
       "</style>\n",
       "<table border=\"1\" class=\"dataframe\">\n",
       "  <thead>\n",
       "    <tr style=\"text-align: right;\">\n",
       "      <th></th>\n",
       "      <th>Product_Code</th>\n",
       "      <th>Warehouse</th>\n",
       "      <th>Product_Category</th>\n",
       "      <th>Date</th>\n",
       "      <th>Order_Demand</th>\n",
       "    </tr>\n",
       "  </thead>\n",
       "  <tbody>\n",
       "    <tr>\n",
       "      <th>683</th>\n",
       "      <td>Product_1359</td>\n",
       "      <td>Whse_J</td>\n",
       "      <td>Category_019</td>\n",
       "      <td>2012-01-10</td>\n",
       "      <td>1000</td>\n",
       "    </tr>\n",
       "    <tr>\n",
       "      <th>698</th>\n",
       "      <td>Product_1359</td>\n",
       "      <td>Whse_J</td>\n",
       "      <td>Category_019</td>\n",
       "      <td>2012-01-10</td>\n",
       "      <td>40000</td>\n",
       "    </tr>\n",
       "    <tr>\n",
       "      <th>737</th>\n",
       "      <td>Product_1359</td>\n",
       "      <td>Whse_J</td>\n",
       "      <td>Category_019</td>\n",
       "      <td>2012-01-10</td>\n",
       "      <td>1000</td>\n",
       "    </tr>\n",
       "    <tr>\n",
       "      <th>771</th>\n",
       "      <td>Product_1359</td>\n",
       "      <td>Whse_J</td>\n",
       "      <td>Category_019</td>\n",
       "      <td>2012-01-10</td>\n",
       "      <td>25000</td>\n",
       "    </tr>\n",
       "    <tr>\n",
       "      <th>772</th>\n",
       "      <td>Product_1359</td>\n",
       "      <td>Whse_J</td>\n",
       "      <td>Category_019</td>\n",
       "      <td>2012-01-10</td>\n",
       "      <td>50000</td>\n",
       "    </tr>\n",
       "  </tbody>\n",
       "</table>\n",
       "</div>"
      ],
      "text/plain": [
       "     Product_Code Warehouse Product_Category       Date  Order_Demand\n",
       "683  Product_1359    Whse_J     Category_019 2012-01-10          1000\n",
       "698  Product_1359    Whse_J     Category_019 2012-01-10         40000\n",
       "737  Product_1359    Whse_J     Category_019 2012-01-10          1000\n",
       "771  Product_1359    Whse_J     Category_019 2012-01-10         25000\n",
       "772  Product_1359    Whse_J     Category_019 2012-01-10         50000"
      ]
     },
     "execution_count": 26,
     "metadata": {},
     "output_type": "execute_result"
    }
   ],
   "source": [
    "df_p1359.head()"
   ]
  },
  {
   "cell_type": "code",
   "execution_count": 27,
   "id": "b3874d5c-5a7e-476b-bf2f-04a50cde9b42",
   "metadata": {},
   "outputs": [
    {
     "data": {
      "text/plain": [
       "(16936, 5)"
      ]
     },
     "execution_count": 27,
     "metadata": {},
     "output_type": "execute_result"
    }
   ],
   "source": [
    "df_p1359.shape"
   ]
  },
  {
   "cell_type": "code",
   "execution_count": 28,
   "id": "acbf620d-1093-40e4-9241-f28560a332f8",
   "metadata": {},
   "outputs": [
    {
     "data": {
      "text/html": [
       "<div>\n",
       "<style scoped>\n",
       "    .dataframe tbody tr th:only-of-type {\n",
       "        vertical-align: middle;\n",
       "    }\n",
       "\n",
       "    .dataframe tbody tr th {\n",
       "        vertical-align: top;\n",
       "    }\n",
       "\n",
       "    .dataframe thead th {\n",
       "        text-align: right;\n",
       "    }\n",
       "</style>\n",
       "<table border=\"1\" class=\"dataframe\">\n",
       "  <thead>\n",
       "    <tr style=\"text-align: right;\">\n",
       "      <th></th>\n",
       "      <th>Product_Code</th>\n",
       "      <th>Warehouse</th>\n",
       "      <th>Product_Category</th>\n",
       "      <th>Date</th>\n",
       "      <th>Order_Demand</th>\n",
       "    </tr>\n",
       "  </thead>\n",
       "  <tbody>\n",
       "    <tr>\n",
       "      <th>0</th>\n",
       "      <td>Product_1359</td>\n",
       "      <td>Whse_J</td>\n",
       "      <td>Category_019</td>\n",
       "      <td>2012-01-05</td>\n",
       "      <td>16000</td>\n",
       "    </tr>\n",
       "    <tr>\n",
       "      <th>1</th>\n",
       "      <td>Product_1359</td>\n",
       "      <td>Whse_J</td>\n",
       "      <td>Category_019</td>\n",
       "      <td>2012-01-05</td>\n",
       "      <td>150000</td>\n",
       "    </tr>\n",
       "    <tr>\n",
       "      <th>2</th>\n",
       "      <td>Product_1359</td>\n",
       "      <td>Whse_J</td>\n",
       "      <td>Category_019</td>\n",
       "      <td>2012-01-05</td>\n",
       "      <td>300000</td>\n",
       "    </tr>\n",
       "    <tr>\n",
       "      <th>3</th>\n",
       "      <td>Product_1359</td>\n",
       "      <td>Whse_J</td>\n",
       "      <td>Category_019</td>\n",
       "      <td>2012-01-05</td>\n",
       "      <td>2000</td>\n",
       "    </tr>\n",
       "    <tr>\n",
       "      <th>4</th>\n",
       "      <td>Product_1359</td>\n",
       "      <td>Whse_J</td>\n",
       "      <td>Category_019</td>\n",
       "      <td>2012-01-05</td>\n",
       "      <td>5000</td>\n",
       "    </tr>\n",
       "  </tbody>\n",
       "</table>\n",
       "</div>"
      ],
      "text/plain": [
       "   Product_Code Warehouse Product_Category       Date  Order_Demand\n",
       "0  Product_1359    Whse_J     Category_019 2012-01-05         16000\n",
       "1  Product_1359    Whse_J     Category_019 2012-01-05        150000\n",
       "2  Product_1359    Whse_J     Category_019 2012-01-05        300000\n",
       "3  Product_1359    Whse_J     Category_019 2012-01-05          2000\n",
       "4  Product_1359    Whse_J     Category_019 2012-01-05          5000"
      ]
     },
     "execution_count": 28,
     "metadata": {},
     "output_type": "execute_result"
    }
   ],
   "source": [
    "# sort the data according to date column\n",
    "df_p1359_s = df_p1359.sort_values('Date', ignore_index=True)\n",
    "#sorted and filtered on product_1359\n",
    "df_p1359_s.head()"
   ]
  },
  {
   "cell_type": "code",
   "execution_count": 29,
   "id": "3920fa29-c681-4cf3-b3c3-1c7a8ef557a5",
   "metadata": {},
   "outputs": [],
   "source": [
    "import numpy as np"
   ]
  },
  {
   "cell_type": "code",
   "execution_count": 30,
   "id": "1342b739-c5d9-4de2-86ba-ff857fc9e450",
   "metadata": {},
   "outputs": [
    {
     "data": {
      "text/plain": [
       "numpy.datetime64('2012-01-05')"
      ]
     },
     "execution_count": 30,
     "metadata": {},
     "output_type": "execute_result"
    }
   ],
   "source": [
    "#Finding Start date\n",
    "dd_start = np.datetime64(min(df_p1359_s.Date.unique()),'D')\n",
    "dd_start"
   ]
  },
  {
   "cell_type": "code",
   "execution_count": 31,
   "id": "6339faad-82a0-426e-8f53-62878821d6f3",
   "metadata": {},
   "outputs": [
    {
     "data": {
      "text/plain": [
       "numpy.datetime64('2017-01-06')"
      ]
     },
     "execution_count": 31,
     "metadata": {},
     "output_type": "execute_result"
    }
   ],
   "source": [
    "#Finding end date\n",
    "dd_end = np.datetime64(max(df_p1359_s.Date.unique()),'D')\n",
    "dd_end"
   ]
  },
  {
   "cell_type": "code",
   "execution_count": null,
   "id": "7180e98e-9b53-4e36-900e-79eeb8b5ad95",
   "metadata": {},
   "outputs": [],
   "source": []
  }
 ],
 "metadata": {
  "kernelspec": {
   "display_name": "Python 3 (ipykernel)",
   "language": "python",
   "name": "python3"
  },
  "language_info": {
   "codemirror_mode": {
    "name": "ipython",
    "version": 3
   },
   "file_extension": ".py",
   "mimetype": "text/x-python",
   "name": "python",
   "nbconvert_exporter": "python",
   "pygments_lexer": "ipython3",
   "version": "3.9.13"
  }
 },
 "nbformat": 4,
 "nbformat_minor": 5
}
